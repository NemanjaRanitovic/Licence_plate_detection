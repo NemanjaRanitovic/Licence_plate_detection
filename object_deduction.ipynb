{
 "cells": [
  {
   "cell_type": "code",
   "execution_count": 1,
   "id": "36c557a0",
   "metadata": {},
   "outputs": [],
   "source": [
    "import numpy as np \n",
    "import pandas as pd \n",
    "import matplotlib.pyplot as plt\n",
    "import os\n",
    "import cv2"
   ]
  },
  {
   "cell_type": "code",
   "execution_count": 2,
   "id": "d7e451c5",
   "metadata": {},
   "outputs": [
    {
     "data": {
      "text/html": [
       "<div>\n",
       "<style scoped>\n",
       "    .dataframe tbody tr th:only-of-type {\n",
       "        vertical-align: middle;\n",
       "    }\n",
       "\n",
       "    .dataframe tbody tr th {\n",
       "        vertical-align: top;\n",
       "    }\n",
       "\n",
       "    .dataframe thead th {\n",
       "        text-align: right;\n",
       "    }\n",
       "</style>\n",
       "<table border=\"1\" class=\"dataframe\">\n",
       "  <thead>\n",
       "    <tr style=\"text-align: right;\">\n",
       "      <th></th>\n",
       "      <th>filepath</th>\n",
       "      <th>xmin</th>\n",
       "      <th>xmax</th>\n",
       "      <th>ymin</th>\n",
       "      <th>ymax</th>\n",
       "    </tr>\n",
       "  </thead>\n",
       "  <tbody>\n",
       "    <tr>\n",
       "      <th>0</th>\n",
       "      <td>./images\\N1.xml</td>\n",
       "      <td>1093</td>\n",
       "      <td>1396</td>\n",
       "      <td>645</td>\n",
       "      <td>727</td>\n",
       "    </tr>\n",
       "    <tr>\n",
       "      <th>1</th>\n",
       "      <td>./images\\N100.xml</td>\n",
       "      <td>134</td>\n",
       "      <td>301</td>\n",
       "      <td>312</td>\n",
       "      <td>350</td>\n",
       "    </tr>\n",
       "    <tr>\n",
       "      <th>2</th>\n",
       "      <td>./images\\N101.xml</td>\n",
       "      <td>31</td>\n",
       "      <td>139</td>\n",
       "      <td>128</td>\n",
       "      <td>161</td>\n",
       "    </tr>\n",
       "    <tr>\n",
       "      <th>3</th>\n",
       "      <td>./images\\N102.xml</td>\n",
       "      <td>164</td>\n",
       "      <td>316</td>\n",
       "      <td>216</td>\n",
       "      <td>243</td>\n",
       "    </tr>\n",
       "    <tr>\n",
       "      <th>4</th>\n",
       "      <td>./images\\N103.xml</td>\n",
       "      <td>813</td>\n",
       "      <td>1067</td>\n",
       "      <td>665</td>\n",
       "      <td>724</td>\n",
       "    </tr>\n",
       "  </tbody>\n",
       "</table>\n",
       "</div>"
      ],
      "text/plain": [
       "            filepath  xmin  xmax  ymin  ymax\n",
       "0    ./images\\N1.xml  1093  1396   645   727\n",
       "1  ./images\\N100.xml   134   301   312   350\n",
       "2  ./images\\N101.xml    31   139   128   161\n",
       "3  ./images\\N102.xml   164   316   216   243\n",
       "4  ./images\\N103.xml   813  1067   665   724"
      ]
     },
     "execution_count": 2,
     "metadata": {},
     "output_type": "execute_result"
    }
   ],
   "source": [
    "df = pd.read_csv('labels.csv')\n",
    "df.head()"
   ]
  },
  {
   "cell_type": "code",
   "execution_count": 5,
   "id": "223938cc",
   "metadata": {},
   "outputs": [],
   "source": [
    "import xml.etree.ElementTree as xet"
   ]
  },
  {
   "cell_type": "code",
   "execution_count": 9,
   "id": "c3999816",
   "metadata": {},
   "outputs": [
    {
     "data": {
      "text/plain": [
       "'./images\\\\N1.xml'"
      ]
     },
     "execution_count": 9,
     "metadata": {},
     "output_type": "execute_result"
    }
   ],
   "source": [
    "filename = df['filepath'][0]\n",
    "filename"
   ]
  },
  {
   "cell_type": "code",
   "execution_count": 14,
   "id": "0b4aef86",
   "metadata": {},
   "outputs": [],
   "source": [
    "def getFilename(filename):\n",
    "    filename_image = xet.parse(filename).getroot().find('filename').text\n",
    "    filepath_image = os.path.join('./images',filename_image)\n",
    "    return filepath_image"
   ]
  },
  {
   "cell_type": "code",
   "execution_count": 15,
   "id": "170a8c0c",
   "metadata": {},
   "outputs": [
    {
     "data": {
      "text/plain": [
       "'./images\\\\N1.jpeg'"
      ]
     },
     "execution_count": 15,
     "metadata": {},
     "output_type": "execute_result"
    }
   ],
   "source": [
    "getFilename(filename)"
   ]
  },
  {
   "cell_type": "code",
   "execution_count": 17,
   "id": "a9a47857",
   "metadata": {},
   "outputs": [
    {
     "data": {
      "text/plain": [
       "['./images\\\\N1.jpeg',\n",
       " './images\\\\N100.jpeg',\n",
       " './images\\\\N101.jpeg',\n",
       " './images\\\\N102.jpeg',\n",
       " './images\\\\N103.jpeg',\n",
       " './images\\\\N104.jpeg',\n",
       " './images\\\\N105.jpeg',\n",
       " './images\\\\N106.jpeg',\n",
       " './images\\\\N107.jpeg',\n",
       " './images\\\\N108.jpeg',\n",
       " './images\\\\N109.jpeg',\n",
       " './images\\\\N11.jpeg',\n",
       " './images\\\\N110.jpeg',\n",
       " './images\\\\N111.jpeg',\n",
       " './images\\\\N112.jpeg',\n",
       " './images\\\\N113.jpeg',\n",
       " './images\\\\N114.jpeg',\n",
       " './images\\\\N116.jpeg',\n",
       " './images\\\\N117.jpeg',\n",
       " './images\\\\N118.jpeg',\n",
       " './images\\\\N119.jpeg',\n",
       " './images\\\\N12.jpeg',\n",
       " './images\\\\N120.jpeg',\n",
       " './images\\\\N121.jpeg',\n",
       " './images\\\\N122.jpeg',\n",
       " './images\\\\N123.jpeg',\n",
       " './images\\\\N124.jpeg',\n",
       " './images\\\\N126.jpeg',\n",
       " './images\\\\N127.jpeg',\n",
       " './images\\\\N128.jpeg',\n",
       " './images\\\\N129.jpeg',\n",
       " './images\\\\N130.jpeg',\n",
       " './images\\\\N131.jpeg',\n",
       " './images\\\\N132.jpeg',\n",
       " './images\\\\N133.jpeg',\n",
       " './images\\\\N134.jpeg',\n",
       " './images\\\\N135.jpeg',\n",
       " './images\\\\N136.jpeg',\n",
       " './images\\\\N137.jpeg',\n",
       " './images\\\\N138.jpeg',\n",
       " './images\\\\N139.jpeg',\n",
       " './images\\\\N14.jpeg',\n",
       " './images\\\\N140.jpeg',\n",
       " './images\\\\N141.jpeg',\n",
       " './images\\\\N142.jpeg',\n",
       " './images\\\\N143.jpeg',\n",
       " './images\\\\N144.jpeg',\n",
       " './images\\\\N145.jpeg',\n",
       " './images\\\\N147.jpeg',\n",
       " './images\\\\N148.jpeg',\n",
       " './images\\\\N149.jpeg',\n",
       " './images\\\\N15.jpeg',\n",
       " './images\\\\N150.jpeg',\n",
       " './images\\\\N151.jpeg',\n",
       " './images\\\\N152.jpeg',\n",
       " './images\\\\N153.jpeg',\n",
       " './images\\\\N154.jpeg',\n",
       " './images\\\\N155.jpeg',\n",
       " './images\\\\N156.jpeg',\n",
       " './images\\\\N158.jpeg',\n",
       " './images\\\\N16.jpeg',\n",
       " './images\\\\N160.jpeg',\n",
       " './images\\\\N162.jpeg',\n",
       " './images\\\\N163.jpeg',\n",
       " './images\\\\N164.jpeg',\n",
       " './images\\\\N165.jpeg',\n",
       " './images\\\\N166.jpeg',\n",
       " './images\\\\N167.jpeg',\n",
       " './images\\\\N168.jpeg',\n",
       " './images\\\\N169.jpeg',\n",
       " './images\\\\N17.jpeg',\n",
       " './images\\\\N170.jpeg',\n",
       " './images\\\\N171.jpeg',\n",
       " './images\\\\N172.jpeg',\n",
       " './images\\\\N173.jpeg',\n",
       " './images\\\\N174.jpeg',\n",
       " './images\\\\N175.jpeg',\n",
       " './images\\\\N176.jpeg',\n",
       " './images\\\\N177.jpeg',\n",
       " './images\\\\N178.jpeg',\n",
       " './images\\\\N179.jpeg',\n",
       " './images\\\\N18.jpeg',\n",
       " './images\\\\N181.jpeg',\n",
       " './images\\\\N183.jpeg',\n",
       " './images\\\\N184.jpeg',\n",
       " './images\\\\N185.jpeg',\n",
       " './images\\\\N186.jpeg',\n",
       " './images\\\\N187.jpeg',\n",
       " './images\\\\N188.jpeg',\n",
       " './images\\\\N189.jpeg',\n",
       " './images\\\\N19.jpeg',\n",
       " './images\\\\N190.jpeg',\n",
       " './images\\\\N191.jpeg',\n",
       " './images\\\\N192.jpeg',\n",
       " './images\\\\N193.jpeg',\n",
       " './images\\\\N195.jpeg',\n",
       " './images\\\\N196.jpeg',\n",
       " './images\\\\N197.jpeg',\n",
       " './images\\\\N198.jpeg',\n",
       " './images\\\\N199.jpeg',\n",
       " './images\\\\N2.jpeg',\n",
       " './images\\\\N20.jpeg',\n",
       " './images\\\\N200.jpeg',\n",
       " './images\\\\N201.jpeg',\n",
       " './images\\\\N202.jpeg',\n",
       " './images\\\\N203.jpeg',\n",
       " './images\\\\N204.jpeg',\n",
       " './images\\\\N205.jpeg',\n",
       " './images\\\\N206.jpeg',\n",
       " './images\\\\N207.jpeg',\n",
       " './images\\\\N208.jpeg',\n",
       " './images\\\\N209.jpeg',\n",
       " './images\\\\N21.jpeg',\n",
       " './images\\\\N210.jpeg',\n",
       " './images\\\\N211.jpeg',\n",
       " './images\\\\N212.jpeg',\n",
       " './images\\\\N213.jpeg',\n",
       " './images\\\\N214.jpeg',\n",
       " './images\\\\N215.jpeg',\n",
       " './images\\\\N216.jpeg',\n",
       " './images\\\\N217.jpeg',\n",
       " './images\\\\N218.jpeg',\n",
       " './images\\\\N219.jpeg',\n",
       " './images\\\\N22.jpeg',\n",
       " './images\\\\N220.jpeg',\n",
       " './images\\\\N221.jpeg',\n",
       " './images\\\\N222.jpeg',\n",
       " './images\\\\N223.jpeg',\n",
       " './images\\\\N224.jpeg',\n",
       " './images\\\\N225.jpeg',\n",
       " './images\\\\N226.jpeg',\n",
       " './images\\\\N227.jpeg',\n",
       " './images\\\\N229.jpeg',\n",
       " './images\\\\N23.jpeg',\n",
       " './images\\\\N230.jpeg',\n",
       " './images\\\\N231.jpeg',\n",
       " './images\\\\N232.jpeg',\n",
       " './images\\\\N233.jpeg',\n",
       " './images\\\\N234.jpeg',\n",
       " './images\\\\N235.jpeg',\n",
       " './images\\\\N236.jpeg',\n",
       " './images\\\\N237.jpeg',\n",
       " './images\\\\N238.jpeg',\n",
       " './images\\\\N239.jpeg',\n",
       " './images\\\\N24.jpeg',\n",
       " './images\\\\N240.jpeg',\n",
       " './images\\\\N241.jpeg',\n",
       " './images\\\\N242.jpeg',\n",
       " './images\\\\N244.jpeg',\n",
       " './images\\\\N245.jpeg',\n",
       " './images\\\\N246.jpeg',\n",
       " './images\\\\N247.jpeg',\n",
       " './images\\\\N248.jpeg',\n",
       " './images\\\\N25.jpeg',\n",
       " './images\\\\N27.jpeg',\n",
       " './images\\\\N28.jpeg',\n",
       " './images\\\\N3.jpeg',\n",
       " './images\\\\N30.jpeg',\n",
       " './images\\\\N31.jpeg',\n",
       " './images\\\\N32.jpeg',\n",
       " './images\\\\N33.jpeg',\n",
       " './images\\\\N34.jpeg',\n",
       " './images\\\\N35.jpeg',\n",
       " './images\\\\N36.jpeg',\n",
       " './images\\\\N37.jpeg',\n",
       " './images\\\\N38.jpeg',\n",
       " './images\\\\N4.jpeg',\n",
       " './images\\\\N40.jpeg',\n",
       " './images\\\\N42.jpeg',\n",
       " './images\\\\N43.jpeg',\n",
       " './images\\\\N44.jpeg',\n",
       " './images\\\\N45.jpeg',\n",
       " './images\\\\N46.jpeg',\n",
       " './images\\\\N47.jpeg',\n",
       " './images\\\\N48.jpeg',\n",
       " './images\\\\N49.jpeg',\n",
       " './images\\\\N5.jpeg',\n",
       " './images\\\\N50.jpeg',\n",
       " './images\\\\N51.jpeg',\n",
       " './images\\\\N52.jpeg',\n",
       " './images\\\\N53.jpeg',\n",
       " './images\\\\N54.jpeg',\n",
       " './images\\\\N56.jpeg',\n",
       " './images\\\\N57.jpeg',\n",
       " './images\\\\N58.jpeg',\n",
       " './images\\\\N59.jpeg',\n",
       " './images\\\\N6.jpeg',\n",
       " './images\\\\N61.jpeg',\n",
       " './images\\\\N62.jpeg',\n",
       " './images\\\\N63.jpeg',\n",
       " './images\\\\N64.jpeg',\n",
       " './images\\\\N65.jpeg',\n",
       " './images\\\\N66.jpeg',\n",
       " './images\\\\N67.jpeg',\n",
       " './images\\\\N68.jpeg',\n",
       " './images\\\\N69.jpeg',\n",
       " './images\\\\N7.jpeg',\n",
       " './images\\\\N70.jpeg',\n",
       " './images\\\\N72.jpeg',\n",
       " './images\\\\N73.jpeg',\n",
       " './images\\\\N74.jpeg',\n",
       " './images\\\\N75.jpeg',\n",
       " './images\\\\N77.jpeg',\n",
       " './images\\\\N78.jpeg',\n",
       " './images\\\\N79.jpeg',\n",
       " './images\\\\N8.jpeg',\n",
       " './images\\\\N80.jpeg',\n",
       " './images\\\\N81.jpeg',\n",
       " './images\\\\N82.jpeg',\n",
       " './images\\\\N84.jpeg',\n",
       " './images\\\\N85.jpeg',\n",
       " './images\\\\N86.jpeg',\n",
       " './images\\\\N88.jpeg',\n",
       " './images\\\\N89.jpeg',\n",
       " './images\\\\N9.jpeg',\n",
       " './images\\\\N90.jpeg',\n",
       " './images\\\\N91.jpeg',\n",
       " './images\\\\N92.jpeg',\n",
       " './images\\\\N93.jpeg',\n",
       " './images\\\\N94.jpeg',\n",
       " './images\\\\N95.jpeg',\n",
       " './images\\\\N96.jpeg',\n",
       " './images\\\\N97.jpeg',\n",
       " './images\\\\N98.jpeg',\n",
       " './images\\\\N99.jpeg']"
      ]
     },
     "execution_count": 17,
     "metadata": {},
     "output_type": "execute_result"
    }
   ],
   "source": [
    "image_path = list(df['filepath'].apply(getFilename))\n",
    "image_path"
   ]
  },
  {
   "cell_type": "markdown",
   "id": "4e1c238c",
   "metadata": {},
   "source": [
    "#### verifying image"
   ]
  },
  {
   "cell_type": "code",
   "execution_count": 24,
   "id": "2584d364",
   "metadata": {},
   "outputs": [
    {
     "data": {
      "text/plain": [
       "'./images\\\\N1.jpeg'"
      ]
     },
     "execution_count": 24,
     "metadata": {},
     "output_type": "execute_result"
    }
   ],
   "source": [
    "file_path = image_path[0]\n",
    "file_path"
   ]
  },
  {
   "cell_type": "code",
   "execution_count": 1,
   "id": "b6fd28d8",
   "metadata": {},
   "outputs": [
    {
     "ename": "NameError",
     "evalue": "name 'cv2' is not defined",
     "output_type": "error",
     "traceback": [
      "\u001b[1;31m---------------------------------------------------------------------------\u001b[0m",
      "\u001b[1;31mNameError\u001b[0m                                 Traceback (most recent call last)",
      "Cell \u001b[1;32mIn[1], line 1\u001b[0m\n\u001b[1;32m----> 1\u001b[0m img \u001b[38;5;241m=\u001b[39m \u001b[43mcv2\u001b[49m\u001b[38;5;241m.\u001b[39mimread(file_path)\n\u001b[0;32m      3\u001b[0m cv2\u001b[38;5;241m.\u001b[39mnamedWindow(\u001b[38;5;124m'\u001b[39m\u001b[38;5;124mexample\u001b[39m\u001b[38;5;124m'\u001b[39m,cv2\u001b[38;5;241m.\u001b[39mWINDOW_NORMAL)\n\u001b[0;32m      4\u001b[0m cv2\u001b[38;5;241m.\u001b[39mimshow(\u001b[38;5;124m'\u001b[39m\u001b[38;5;124mexample\u001b[39m\u001b[38;5;124m'\u001b[39m,img)\n",
      "\u001b[1;31mNameError\u001b[0m: name 'cv2' is not defined"
     ]
    }
   ],
   "source": [
    "img = cv2.imread(file_path)\n",
    "cv2.namedWindow('example',cv2.WINDOW_NORMAL)\n",
    "cv2.imshow('example',img)\n",
    "cv2.waitKey(0)\n",
    "cv2.destroyAllWindows()"
   ]
  },
  {
   "cell_type": "code",
   "execution_count": 28,
   "id": "6035444e",
   "metadata": {},
   "outputs": [],
   "source": [
    "cv2.rectangle(img,(1093,645),(1396,727),(0,255,0),3)\n",
    "cv2.namedWindow('example',cv2.WINDOW_NORMAL)\n",
    "cv2.imshow('example',img)\n",
    "cv2.waitKey(0)\n",
    "cv2.destroyAllWindows()"
   ]
  }
 ],
 "metadata": {
  "kernelspec": {
   "display_name": "Python 3 (ipykernel)",
   "language": "python",
   "name": "python3"
  },
  "language_info": {
   "codemirror_mode": {
    "name": "ipython",
    "version": 3
   },
   "file_extension": ".py",
   "mimetype": "text/x-python",
   "name": "python",
   "nbconvert_exporter": "python",
   "pygments_lexer": "ipython3",
   "version": "3.9.13"
  }
 },
 "nbformat": 4,
 "nbformat_minor": 5
}
